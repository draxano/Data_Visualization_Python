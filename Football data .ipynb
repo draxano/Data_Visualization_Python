{
 "cells": [
  {
   "cell_type": "markdown",
   "id": "5c3e8c5f",
   "metadata": {},
   "source": [
    "### First section - Making an API call to collect football player data."
   ]
  },
  {
   "cell_type": "markdown",
   "id": "6268b98d",
   "metadata": {},
   "source": [
    "We will need to make an API call to api-football.com to get some data in JSON form about the player. Once we have got the data we will store the neccessary information to us in list data structure."
   ]
  },
  {
   "cell_type": "code",
   "execution_count": 64,
   "id": "a5dff9a6",
   "metadata": {},
   "outputs": [],
   "source": [
    "import http.client\n",
    "import json \n",
    "import sqlite3\n",
    "\n",
    "# Real Madrid players\n",
    "benzema_ID = 759\n",
    "courtois_ID = 730\n",
    "modric_ID = 754\n",
    "vinicius_ID = 762\n",
    "# Manchester City players\n",
    "kdb_ID = 629\n",
    "haaland_ID = 1100\n",
    "mahrez_ID = 635\n",
    "# Liverpool players\n",
    "salah_ID = 306\n",
    "fabinho_ID = 299\n",
    "vanDijk_ID = 290\n",
    "luisDiaz_ID = 2489\n",
    "# Manchester United players\n",
    "casemiro_ID = 747\n",
    "ronaldo_ID = 874\n",
    "# Tottenham players \n",
    "son_ID = 186\n",
    "kane_ID = 184\n",
    "# Barcelona players \n",
    "lewandowski_ID = 521\n",
    "# Milan players \n",
    "leao_ID = 22236\n",
    "# PSG players\n",
    "mbappe_ID = 278\n",
    "# Bayern players \n",
    "mane_ID = 304\n",
    "# Dortmund players\n",
    "haller_ID = 1826\n",
    "\n",
    "# refactor this and create a function which handles this. The function will take an id and player name\n",
    "\n",
    "conn = http.client.HTTPSConnection(\"api-football-v1.p.rapidapi.com\")\n",
    "\n",
    "headers = {\n",
    "    'X-RapidAPI-Key': \"02bf4c5ff6msh55f0a757f77bb0bp1476d4jsnab56de1f412d\",\n",
    "    'X-RapidAPI-Host': \"api-football-v1.p.rapidapi.com\"\n",
    "    }\n",
    "\n",
    "conn.request(\"GET\", \"/v3/players?id=\"+ str(benzema_ID) + \"&season=2022\", headers=headers)\n",
    "\n",
    "\n",
    "benzemaRes = conn.getresponse()\n",
    "benzemaData = benzemaRes.read()\n",
    "benzema_data_json = json.loads(benzemaData)\n",
    "\n",
    "benzema = {\n",
    "    'id':int(benzema_data_json[\"response\"][0][\"player\"][\"id\"]),\n",
    "    'name':str(benzema_data_json[\"response\"][0][\"player\"][\"name\"]),\n",
    "    'age':int(benzema_data_json[\"response\"][0][\"player\"][\"age\"]),\n",
    "    'country':str(benzema_data_json[\"response\"][0][\"player\"][\"nationality\"]),\n",
    "    'goals':int(benzema_data_json[\"response\"][0][\"statistics\"][0][\"goals\"][\"total\"]),\n",
    "    'league':str(benzema_data_json[\"response\"][0][\"statistics\"][0][\"league\"][\"name\"]),\n",
    "    'team':str(benzema_data_json[\"response\"][0][\"statistics\"][0][\"team\"][\"name\"])\n",
    "}\n",
    "#-----------------------------------------------------------------------------------------------\n",
    "#-----------------------------------------------------------------------------------------------\n",
    "conn.request(\"GET\", \"/v3/players?id=\"+ str(courtois_ID) + \"&season=2022\", headers=headers)\n",
    "\n",
    "\n",
    "courtoisRes = conn.getresponse()\n",
    "courtoisData = courtoisRes.read()\n",
    "courtois_data_json = json.loads(courtoisData)\n",
    "\n",
    "courtois = {\n",
    "    'id':int(courtois_data_json[\"response\"][0][\"player\"][\"id\"]),\n",
    "    'name':str(courtois_data_json[\"response\"][0][\"player\"][\"name\"]),\n",
    "    'age':int(courtois_data_json[\"response\"][0][\"player\"][\"age\"]),\n",
    "    'country':str(courtois_data_json[\"response\"][0][\"player\"][\"nationality\"]),\n",
    "    'goals':int(courtois_data_json[\"response\"][0][\"statistics\"][0][\"goals\"][\"total\"]),\n",
    "    'league':str(courtois_data_json[\"response\"][0][\"statistics\"][0][\"league\"][\"name\"]),\n",
    "    'team':str(courtois_data_json[\"response\"][0][\"statistics\"][0][\"team\"][\"name\"])\n",
    "}\n",
    "\n",
    "#-----------------------------------------------------------------------------------------------\n",
    "#-----------------------------------------------------------------------------------------------\n",
    "\n",
    "conn.request(\"GET\", \"/v3/players?id=\"+ str(modric_ID) + \"&season=2022\", headers=headers)\n",
    "\n",
    "\n",
    "modricRes = conn.getresponse()\n",
    "modricData = modricRes.read()\n",
    "modric_data_json = json.loads(modricData)\n",
    "\n",
    "modric = {\n",
    "    'id':int(modric_data_json[\"response\"][0][\"player\"][\"id\"]),\n",
    "    'name':str(modric_data_json[\"response\"][0][\"player\"][\"name\"]),\n",
    "    'age':int(modric_data_json[\"response\"][0][\"player\"][\"age\"]),\n",
    "    'country':str(modric_data_json[\"response\"][0][\"player\"][\"nationality\"]),\n",
    "    'goals':int(modric_data_json[\"response\"][0][\"statistics\"][0][\"goals\"][\"total\"]),\n",
    "    'league':str(modric_data_json[\"response\"][0][\"statistics\"][0][\"league\"][\"name\"]),\n",
    "    'team':str(modric_data_json[\"response\"][0][\"statistics\"][0][\"team\"][\"name\"])\n",
    "}\n",
    "\n",
    "#-----------------------------------------------------------------------------------------------\n",
    "#-----------------------------------------------------------------------------------------------\n",
    "\n",
    "conn.request(\"GET\", \"/v3/players?id=\"+ str(vinicius_ID) + \"&season=2022\", headers=headers)\n",
    "\n",
    "\n",
    "viniciusRes = conn.getresponse()\n",
    "viniciusData = viniciusRes.read()\n",
    "vinicius_data_json = json.loads(viniciusData)\n",
    "\n",
    "vinicius = {\n",
    "    'id':int(vinicius_data_json[\"response\"][0][\"player\"][\"id\"]),\n",
    "    'name':str(vinicius_data_json[\"response\"][0][\"player\"][\"name\"]),\n",
    "    'age':int(vinicius_data_json[\"response\"][0][\"player\"][\"age\"]),\n",
    "    'country':str(vinicius_data_json[\"response\"][0][\"player\"][\"nationality\"]),\n",
    "    'goals':int(vinicius_data_json[\"response\"][0][\"statistics\"][0][\"goals\"][\"total\"]),\n",
    "    'league':str(vinicius_data_json[\"response\"][0][\"statistics\"][0][\"league\"][\"name\"]),\n",
    "    'team':str(vinicius_data_json[\"response\"][0][\"statistics\"][0][\"team\"][\"name\"])\n",
    "}\n",
    "\n",
    "#-----------------------------------------------------------------------------------------------\n",
    "#-----------------------------------------------------------------------------------------------\n",
    "\n",
    "conn.request(\"GET\", \"/v3/players?id=\"+ str(kdb_ID) + \"&season=2022\", headers=headers)\n",
    "\n",
    "\n",
    "kdbRes = conn.getresponse()\n",
    "kdbData = kdbRes.read()\n",
    "kdb_data_json = json.loads(kdbData)\n",
    "\n",
    "kdb = {\n",
    "    'id':int(kdb_data_json[\"response\"][0][\"player\"][\"id\"]),\n",
    "    'name':str(kdb_data_json[\"response\"][0][\"player\"][\"name\"]),\n",
    "    'age':int(kdb_data_json[\"response\"][0][\"player\"][\"age\"]),\n",
    "    'country':str(kdb_data_json[\"response\"][0][\"player\"][\"nationality\"]),\n",
    "    'goals':int(kdb_data_json[\"response\"][0][\"statistics\"][0][\"goals\"][\"total\"]),\n",
    "    'league':str(kdb_data_json[\"response\"][0][\"statistics\"][0][\"league\"][\"name\"]),\n",
    "    'team':str(kdb_data_json[\"response\"][0][\"statistics\"][0][\"team\"][\"name\"])\n",
    "}\n",
    "\n",
    "#-----------------------------------------------------------------------------------------------\n",
    "#-----------------------------------------------------------------------------------------------\n",
    "\n",
    "conn.request(\"GET\", \"/v3/players?id=\"+ str(haaland_ID) + \"&season=2022\", headers=headers)\n",
    "\n",
    "\n",
    "haalandRes = conn.getresponse()\n",
    "haalandData = haalandRes.read()\n",
    "haaland_data_json = json.loads(haalandData)\n",
    "\n",
    "haaland = {\n",
    "    'id':int(haaland_data_json[\"response\"][0][\"player\"][\"id\"]),\n",
    "    'name':str(haaland_data_json[\"response\"][0][\"player\"][\"name\"]),\n",
    "    'age':int(haaland_data_json[\"response\"][0][\"player\"][\"age\"]),\n",
    "    'country':str(haaland_data_json[\"response\"][0][\"player\"][\"nationality\"]),\n",
    "    'goals':int(haaland_data_json[\"response\"][0][\"statistics\"][0][\"goals\"][\"total\"]),\n",
    "    'league':str(haaland_data_json[\"response\"][0][\"statistics\"][0][\"league\"][\"name\"]),\n",
    "    'team':str(haaland_data_json[\"response\"][0][\"statistics\"][0][\"team\"][\"name\"])\n",
    "}\n",
    "\n",
    "#-----------------------------------------------------------------------------------------------\n",
    "#-----------------------------------------------------------------------------------------------\n",
    "\n",
    "conn.request(\"GET\", \"/v3/players?id=\"+ str(mahrez_ID) + \"&season=2022\", headers=headers)\n",
    "\n",
    "\n",
    "mahrezRes = conn.getresponse()\n",
    "mahrezData = mahrezRes.read()\n",
    "mahrez_data_json = json.loads(mahrezData)\n",
    "\n",
    "mahrez = {\n",
    "    'id':int(mahrez_data_json[\"response\"][0][\"player\"][\"id\"]),\n",
    "    'name':str(mahrez_data_json[\"response\"][0][\"player\"][\"name\"]),\n",
    "    'age':int(mahrez_data_json[\"response\"][0][\"player\"][\"age\"]),\n",
    "    'country':str(mahrez_data_json[\"response\"][0][\"player\"][\"nationality\"]),\n",
    "    'goals':int(mahrez_data_json[\"response\"][0][\"statistics\"][0][\"goals\"][\"total\"]),\n",
    "    'league':str(mahrez_data_json[\"response\"][0][\"statistics\"][0][\"league\"][\"name\"]),\n",
    "    'team':str(mahrez_data_json[\"response\"][0][\"statistics\"][0][\"team\"][\"name\"])\n",
    "}\n",
    "\n",
    "#-----------------------------------------------------------------------------------------------\n",
    "#-----------------------------------------------------------------------------------------------\n",
    "\n",
    "conn.request(\"GET\", \"/v3/players?id=\"+ str(salah_ID) + \"&season=2022\", headers=headers)\n",
    "\n",
    "\n",
    "salahRes = conn.getresponse()\n",
    "salahData = salahRes.read()\n",
    "salah_data_json = json.loads(salahData)\n",
    "\n",
    "salah = {\n",
    "    'id':int(salah_data_json[\"response\"][0][\"player\"][\"id\"]),\n",
    "    'name':str(salah_data_json[\"response\"][0][\"player\"][\"name\"]),\n",
    "    'age':int(salah_data_json[\"response\"][0][\"player\"][\"age\"]),\n",
    "    'country':str(salah_data_json[\"response\"][0][\"player\"][\"nationality\"]),\n",
    "    'goals':int(salah_data_json[\"response\"][0][\"statistics\"][0][\"goals\"][\"total\"]),\n",
    "    'league':str(salah_data_json[\"response\"][0][\"statistics\"][0][\"league\"][\"name\"]),\n",
    "    'team':str(salah_data_json[\"response\"][0][\"statistics\"][0][\"team\"][\"name\"])\n",
    "}\n",
    "\n",
    "#-----------------------------------------------------------------------------------------------\n",
    "#-----------------------------------------------------------------------------------------------\n",
    "\n",
    "conn.request(\"GET\", \"/v3/players?id=\"+ str(fabinho_ID) + \"&season=2022\", headers=headers)\n",
    "\n",
    "\n",
    "fabinhoRes = conn.getresponse()\n",
    "fabinhoData = fabinhoRes.read()\n",
    "fabinho_data_json = json.loads(fabinhoData)\n",
    "\n",
    "fabinho = {\n",
    "    'id':int(fabinho_data_json[\"response\"][0][\"player\"][\"id\"]),\n",
    "    'name':str(fabinho_data_json[\"response\"][0][\"player\"][\"name\"]),\n",
    "    'age':int(fabinho_data_json[\"response\"][0][\"player\"][\"age\"]),\n",
    "    'country':str(fabinho_data_json[\"response\"][0][\"player\"][\"nationality\"]),\n",
    "    'goals':int(fabinho_data_json[\"response\"][0][\"statistics\"][0][\"goals\"][\"total\"]),\n",
    "    'league':str(fabinho_data_json[\"response\"][0][\"statistics\"][0][\"league\"][\"name\"]),\n",
    "    'team':str(fabinho_data_json[\"response\"][0][\"statistics\"][0][\"team\"][\"name\"])\n",
    "}\n",
    "\n",
    "#-----------------------------------------------------------------------------------------------\n",
    "#-----------------------------------------------------------------------------------------------\n",
    "\n",
    "conn.request(\"GET\", \"/v3/players?id=\"+ str(vanDijk_ID) + \"&season=2022\", headers=headers)\n",
    "\n",
    "\n",
    "vanDijkRes = conn.getresponse()\n",
    "vanDijkData = vanDijkRes.read()\n",
    "vanDijk_data_json = json.loads(vanDijkData)\n",
    "\n",
    "vanDijk = {\n",
    "    'id':int(vanDijk_data_json[\"response\"][0][\"player\"][\"id\"]),\n",
    "    'name':str(vanDijk_data_json[\"response\"][0][\"player\"][\"name\"]),\n",
    "    'age':int(vanDijk_data_json[\"response\"][0][\"player\"][\"age\"]),\n",
    "    'country':str(vanDijk_data_json[\"response\"][0][\"player\"][\"nationality\"]),\n",
    "    'goals':int(vanDijk_data_json[\"response\"][0][\"statistics\"][0][\"goals\"][\"total\"]),\n",
    "    'league':str(vanDijk_data_json[\"response\"][0][\"statistics\"][0][\"league\"][\"name\"]),\n",
    "    'team':str(vanDijk_data_json[\"response\"][0][\"statistics\"][0][\"team\"][\"name\"])\n",
    "}\n",
    "\n",
    "#-----------------------------------------------------------------------------------------------\n",
    "#-----------------------------------------------------------------------------------------------\n",
    "\n",
    "conn.request(\"GET\", \"/v3/players?id=\"+ str(luisDiaz_ID) + \"&season=2022\", headers=headers)\n",
    "\n",
    "\n",
    "luisDiazRes = conn.getresponse()\n",
    "luisDiazData = luisDiazRes.read()\n",
    "luisDiaz_data_json = json.loads(luisDiazData)\n",
    "\n",
    "luisDiaz = {\n",
    "    'id':int(luisDiaz_data_json[\"response\"][0][\"player\"][\"id\"]),\n",
    "    'name':str(luisDiaz_data_json[\"response\"][0][\"player\"][\"name\"]),\n",
    "    'age':int(luisDiaz_data_json[\"response\"][0][\"player\"][\"age\"]),\n",
    "    'country':str(luisDiaz_data_json[\"response\"][0][\"player\"][\"nationality\"]),\n",
    "    'goals':int(luisDiaz_data_json[\"response\"][0][\"statistics\"][0][\"goals\"][\"total\"]),\n",
    "    'league':str(luisDiaz_data_json[\"response\"][0][\"statistics\"][0][\"league\"][\"name\"]),\n",
    "    'team':str(luisDiaz_data_json[\"response\"][0][\"statistics\"][0][\"team\"][\"name\"])\n",
    "}\n",
    "\n",
    "#-----------------------------------------------------------------------------------------------\n",
    "#-----------------------------------------------------------------------------------------------\n",
    "\n",
    "conn.request(\"GET\", \"/v3/players?id=\"+ str(casemiro_ID) + \"&season=2022\", headers=headers)\n",
    "\n",
    "\n",
    "casemiroRes = conn.getresponse()\n",
    "casemiroData = casemiroRes.read()\n",
    "casemiro_data_json = json.loads(casemiroData)\n",
    "\n",
    "casemiro = {\n",
    "    'id':int(casemiro_data_json[\"response\"][0][\"player\"][\"id\"]),\n",
    "    'name':str(casemiro_data_json[\"response\"][0][\"player\"][\"name\"]),\n",
    "    'age':int(casemiro_data_json[\"response\"][0][\"player\"][\"age\"]),\n",
    "    'country':str(casemiro_data_json[\"response\"][0][\"player\"][\"nationality\"]),\n",
    "    'goals':int(casemiro_data_json[\"response\"][0][\"statistics\"][0][\"goals\"][\"total\"]),\n",
    "    'league':str(casemiro_data_json[\"response\"][0][\"statistics\"][0][\"league\"][\"name\"]),\n",
    "    'team':str(casemiro_data_json[\"response\"][0][\"statistics\"][0][\"team\"][\"name\"])\n",
    "}\n",
    "\n",
    "#-----------------------------------------------------------------------------------------------\n",
    "#-----------------------------------------------------------------------------------------------\n",
    "\n",
    "conn.request(\"GET\", \"/v3/players?id=\"+ str(ronaldo_ID) + \"&season=2022\", headers=headers)\n",
    "\n",
    "\n",
    "ronaldoRes = conn.getresponse()\n",
    "ronaldoData = ronaldoRes.read()\n",
    "ronaldo_data_json = json.loads(ronaldoData)\n",
    "\n",
    "ronaldo = {\n",
    "    'id':int(ronaldo_data_json[\"response\"][0][\"player\"][\"id\"]),\n",
    "    'name':str(ronaldo_data_json[\"response\"][0][\"player\"][\"name\"]),\n",
    "    'age':int(ronaldo_data_json[\"response\"][0][\"player\"][\"age\"]),\n",
    "    'country':str(ronaldo_data_json[\"response\"][0][\"player\"][\"nationality\"]),\n",
    "    'goals':int(ronaldo_data_json[\"response\"][0][\"statistics\"][0][\"goals\"][\"total\"]),\n",
    "    'league':str(ronaldo_data_json[\"response\"][0][\"statistics\"][0][\"league\"][\"name\"]),\n",
    "    'team':str(ronaldo_data_json[\"response\"][0][\"statistics\"][0][\"team\"][\"name\"])\n",
    "}\n",
    "\n",
    "#-----------------------------------------------------------------------------------------------\n",
    "#-----------------------------------------------------------------------------------------------\n",
    "\n",
    "conn.request(\"GET\", \"/v3/players?id=\"+ str(son_ID) + \"&season=2022\", headers=headers)\n",
    "\n",
    "\n",
    "sonRes = conn.getresponse()\n",
    "sonData = sonRes.read()\n",
    "son_data_json = json.loads(sonData)\n",
    "\n",
    "son = {\n",
    "    'id':int(son_data_json[\"response\"][0][\"player\"][\"id\"]),\n",
    "    'name':str(son_data_json[\"response\"][0][\"player\"][\"name\"]),\n",
    "    'age':int(son_data_json[\"response\"][0][\"player\"][\"age\"]),\n",
    "    'country':str(son_data_json[\"response\"][0][\"player\"][\"nationality\"]),\n",
    "    'goals':int(son_data_json[\"response\"][0][\"statistics\"][0][\"goals\"][\"total\"]),\n",
    "    'league':str(son_data_json[\"response\"][0][\"statistics\"][0][\"league\"][\"name\"]),\n",
    "    'team':str(son_data_json[\"response\"][0][\"statistics\"][0][\"team\"][\"name\"])\n",
    "}\n",
    "\n",
    "#-----------------------------------------------------------------------------------------------\n",
    "#-----------------------------------------------------------------------------------------------\n",
    "\n",
    "conn.request(\"GET\", \"/v3/players?id=\"+ str(kane_ID) + \"&season=2022\", headers=headers)\n",
    "\n",
    "\n",
    "kaneRes = conn.getresponse()\n",
    "kaneData = kaneRes.read()\n",
    "kane_data_json = json.loads(kaneData)\n",
    "\n",
    "kane = {\n",
    "    'id':int(kane_data_json[\"response\"][0][\"player\"][\"id\"]),\n",
    "    'name':str(kane_data_json[\"response\"][0][\"player\"][\"name\"]),\n",
    "    'age':int(kane_data_json[\"response\"][0][\"player\"][\"age\"]),\n",
    "    'country':str(kane_data_json[\"response\"][0][\"player\"][\"nationality\"]),\n",
    "    'goals':int(kane_data_json[\"response\"][0][\"statistics\"][0][\"goals\"][\"total\"]),\n",
    "    'league':str(kane_data_json[\"response\"][0][\"statistics\"][0][\"league\"][\"name\"]),\n",
    "    'team':str(kane_data_json[\"response\"][0][\"statistics\"][0][\"team\"][\"name\"])\n",
    "}\n",
    "\n",
    "#-----------------------------------------------------------------------------------------------\n",
    "#-----------------------------------------------------------------------------------------------\n",
    "\n",
    "conn.request(\"GET\", \"/v3/players?id=\"+ str(lewandowski_ID) + \"&season=2022\", headers=headers)\n",
    "\n",
    "\n",
    "lewandowskiRes = conn.getresponse()\n",
    "lewandowskiData = lewandowskiRes.read()\n",
    "lewandowski_data_json = json.loads(lewandowskiData)\n",
    "\n",
    "lewandowski = {\n",
    "    'id':int(lewandowski_data_json[\"response\"][0][\"player\"][\"id\"]),\n",
    "    'name':str(lewandowski_data_json[\"response\"][0][\"player\"][\"name\"]),\n",
    "    'age':int(lewandowski_data_json[\"response\"][0][\"player\"][\"age\"]),\n",
    "    'country':str(lewandowski_data_json[\"response\"][0][\"player\"][\"nationality\"]),\n",
    "    'goals':int(lewandowski_data_json[\"response\"][0][\"statistics\"][0][\"goals\"][\"total\"]),\n",
    "    'league':str(lewandowski_data_json[\"response\"][0][\"statistics\"][0][\"league\"][\"name\"]),\n",
    "    'team':str(lewandowski_data_json[\"response\"][0][\"statistics\"][0][\"team\"][\"name\"])\n",
    "}\n",
    "\n",
    "#-----------------------------------------------------------------------------------------------\n",
    "#-----------------------------------------------------------------------------------------------\n",
    "\n",
    "conn.request(\"GET\", \"/v3/players?id=\"+ str(leao_ID) + \"&season=2022\", headers=headers)\n",
    "\n",
    "\n",
    "leaoRes = conn.getresponse()\n",
    "leaoData = leaoRes.read()\n",
    "leao_data_json = json.loads(leaoData)\n",
    "\n",
    "leao = {\n",
    "    'id':int(leao_data_json[\"response\"][0][\"player\"][\"id\"]),\n",
    "    'name':str(leao_data_json[\"response\"][0][\"player\"][\"name\"]),\n",
    "    'age':int(leao_data_json[\"response\"][0][\"player\"][\"age\"]),\n",
    "    'country':str(leao_data_json[\"response\"][0][\"player\"][\"nationality\"]),\n",
    "    'goals':int(leao_data_json[\"response\"][0][\"statistics\"][0][\"goals\"][\"total\"]),\n",
    "    'league':str(leao_data_json[\"response\"][0][\"statistics\"][0][\"league\"][\"name\"]),\n",
    "    'team':str(leao_data_json[\"response\"][0][\"statistics\"][0][\"team\"][\"name\"])\n",
    "}\n",
    "\n",
    "#-----------------------------------------------------------------------------------------------\n",
    "#-----------------------------------------------------------------------------------------------\n",
    "\n",
    "conn.request(\"GET\", \"/v3/players?id=\"+ str(mbappe_ID) + \"&season=2022\", headers=headers)\n",
    "\n",
    "\n",
    "mbappeRes = conn.getresponse()\n",
    "mbappeData = mbappeRes.read()\n",
    "mbappe_data_json = json.loads(mbappeData)\n",
    "\n",
    "mbappe = {\n",
    "    'id':int(mbappe_data_json[\"response\"][0][\"player\"][\"id\"]),\n",
    "    'name':str(mbappe_data_json[\"response\"][0][\"player\"][\"name\"]),\n",
    "    'age':int(mbappe_data_json[\"response\"][0][\"player\"][\"age\"]),\n",
    "    'country':str(mbappe_data_json[\"response\"][0][\"player\"][\"nationality\"]),\n",
    "    'goals':int(mbappe_data_json[\"response\"][0][\"statistics\"][0][\"goals\"][\"total\"]),\n",
    "    'league':str(mbappe_data_json[\"response\"][0][\"statistics\"][0][\"league\"][\"name\"]),\n",
    "    'team':str(mbappe_data_json[\"response\"][0][\"statistics\"][0][\"team\"][\"name\"])\n",
    "}\n",
    "\n",
    "#-----------------------------------------------------------------------------------------------\n",
    "#-----------------------------------------------------------------------------------------------\n",
    "\n",
    "conn.request(\"GET\", \"/v3/players?id=\"+ str(mane_ID) + \"&season=2022\", headers=headers)\n",
    "\n",
    "\n",
    "maneRes = conn.getresponse()\n",
    "maneData = maneRes.read()\n",
    "mane_data_json = json.loads(maneData)\n",
    "\n",
    "mane = {\n",
    "    'id':int(mane_data_json[\"response\"][0][\"player\"][\"id\"]),\n",
    "    'name':str(mane_data_json[\"response\"][0][\"player\"][\"name\"]),\n",
    "    'age':int(mane_data_json[\"response\"][0][\"player\"][\"age\"]),\n",
    "    'country':str(mane_data_json[\"response\"][0][\"player\"][\"nationality\"]),\n",
    "    'goals':int(mane_data_json[\"response\"][0][\"statistics\"][0][\"goals\"][\"total\"]),\n",
    "    'league':str(mane_data_json[\"response\"][0][\"statistics\"][0][\"league\"][\"name\"]),\n",
    "    'team':str(mane_data_json[\"response\"][0][\"statistics\"][0][\"team\"][\"name\"])\n",
    "}\n",
    "\n",
    "\n",
    "#-----------------------------------------------------------------------------------------------\n",
    "#-----------------------------------------------------------------------------------------------\n",
    "\n",
    "conn.request(\"GET\", \"/v3/players?id=\"+ str(haller_ID) + \"&season=2022\", headers=headers)\n",
    "\n",
    "\n",
    "hallerRes = conn.getresponse()\n",
    "hallerData = hallerRes.read()\n",
    "haller_data_json = json.loads(hallerData)\n",
    "\n",
    "haller = {\n",
    "    'id':int(haller_data_json[\"response\"][0][\"player\"][\"id\"]),\n",
    "    'name':str(haller_data_json[\"response\"][0][\"player\"][\"name\"]),\n",
    "    'age':int(haller_data_json[\"response\"][0][\"player\"][\"age\"]),\n",
    "    'country':str(haller_data_json[\"response\"][0][\"player\"][\"nationality\"]),\n",
    "    'goals':int(haller_data_json[\"response\"][0][\"statistics\"][0][\"goals\"][\"total\"]),\n",
    "    'league':str(haller_data_json[\"response\"][0][\"statistics\"][0][\"league\"][\"name\"]),\n",
    "    'team':str(haller_data_json[\"response\"][0][\"statistics\"][0][\"team\"][\"name\"])\n",
    "}\n",
    "\n",
    "\n",
    "\n",
    "\n",
    "\n",
    "\n",
    "conn.close()\n"
   ]
  },
  {
   "cell_type": "markdown",
   "id": "bd980f6f",
   "metadata": {},
   "source": [
    "### Second section - Creating the table"
   ]
  },
  {
   "cell_type": "code",
   "execution_count": 65,
   "id": "182cfce7",
   "metadata": {},
   "outputs": [
    {
     "name": "stderr",
     "output_type": "stream",
     "text": [
      "England not found in regex\n"
     ]
    }
   ],
   "source": [
    "import sqlite3\n",
    "import country_converter as coco\n",
    "\n",
    "\n",
    "\n",
    "\n",
    "db = sqlite3.connect(':memory:')\n",
    "cursor = db.cursor()\n",
    "\n",
    "query = '''DROP TABLE IF EXISTS Players'''\n",
    "cursor.execute(query)\n",
    "\n",
    "query = '''CREATE TABLE Players (\n",
    "    Id INTEGER PRIMARY KEY NOT NULL,\n",
    "    Name TEXT NOT NULL,\n",
    "    Goals INTEGER,\n",
    "    Age INTEGER NOT NULL,\n",
    "    Country TEXT, \n",
    "    League TEXT,\n",
    "    Team TEXT\n",
    ");\n",
    "'''\n",
    "\n",
    "cursor.execute(query)\n",
    "\n",
    "# now it's time to insert the values. Be careful this is the tricky part\n",
    "\n",
    "cursor.execute(\"INSERT INTO Players(Id, Name, Goals, Age, Country, League, Team ) VALUES(?,?,?,?,?,?,?)\",\n",
    "              (benzema['id'],benzema['name'],benzema['goals'],\n",
    "               benzema['age'],benzema['country'],benzema['league'],benzema['team'])\n",
    ")\n",
    "cursor.execute(\"INSERT INTO Players(Id, Name, Goals, Age, Country, League, Team ) VALUES(?,?,?,?,?,?,?)\",\n",
    "              (courtois['id'],courtois['name'],courtois['goals'],\n",
    "               courtois['age'],courtois['country'],courtois['league'],courtois['team'])\n",
    ")\n",
    "cursor.execute(\"INSERT INTO Players(Id, Name, Goals, Age, Country, League, Team ) VALUES(?,?,?,?,?,?,?)\",\n",
    "              (modric['id'],modric['name'],modric['goals'],\n",
    "               modric['age'],modric['country'],modric['league'],modric['team'])\n",
    ")\n",
    "cursor.execute(\"INSERT INTO Players(Id, Name, Goals, Age, Country, League, Team ) VALUES(?,?,?,?,?,?,?)\",\n",
    "              (vinicius['id'],vinicius['name'],vinicius['goals'],\n",
    "               vinicius['age'],vinicius['country'],vinicius['league'],vinicius['team'])\n",
    ")\n",
    "cursor.execute(\"INSERT INTO Players(Id, Name, Goals, Age, Country, League, Team ) VALUES(?,?,?,?,?,?,?)\",\n",
    "              (kdb['id'],kdb['name'],kdb['goals'],\n",
    "               kdb['age'],kdb['country'],kdb['league'],kdb['team'])\n",
    ")\n",
    "cursor.execute(\"INSERT INTO Players(Id, Name, Goals, Age, Country, League, Team ) VALUES(?,?,?,?,?,?,?)\",\n",
    "              (haaland['id'],haaland['name'],haaland['goals'],\n",
    "               haaland['age'],haaland['country'],haaland['league'],haaland['team'])\n",
    ")\n",
    "cursor.execute(\"INSERT INTO Players(Id, Name, Goals, Age, Country, League, Team ) VALUES(?,?,?,?,?,?,?)\",\n",
    "              (mahrez['id'],mahrez['name'],mahrez['goals'],\n",
    "               mahrez['age'],mahrez['country'],mahrez['league'],mahrez['team'])\n",
    ")\n",
    "cursor.execute(\"INSERT INTO Players(Id, Name, Goals, Age, Country, League, Team ) VALUES(?,?,?,?,?,?,?)\",\n",
    "              (salah['id'],salah['name'],salah['goals'],\n",
    "               salah['age'],salah['country'],salah['league'],salah['team'])\n",
    ")\n",
    "cursor.execute(\"INSERT INTO Players(Id, Name, Goals, Age, Country, League, Team ) VALUES(?,?,?,?,?,?,?)\",\n",
    "              (fabinho['id'],fabinho['name'],fabinho['goals'],\n",
    "               fabinho['age'],fabinho['country'],fabinho['league'],fabinho['team'])\n",
    ")\n",
    "cursor.execute(\"INSERT INTO Players(Id, Name, Goals, Age, Country, League, Team ) VALUES(?,?,?,?,?,?,?)\",\n",
    "              (vanDijk['id'],vanDijk['name'],vanDijk['goals'],\n",
    "               vanDijk['age'],vanDijk['country'],vanDijk['league'],vanDijk['team'])\n",
    ")\n",
    "cursor.execute(\"INSERT INTO Players(Id, Name, Goals, Age, Country, League, Team ) VALUES(?,?,?,?,?,?,?)\",\n",
    "              (luisDiaz['id'],luisDiaz['name'],luisDiaz['goals'],\n",
    "               luisDiaz['age'],luisDiaz['country'],luisDiaz['league'],luisDiaz['team'])\n",
    ")\n",
    "cursor.execute(\"INSERT INTO Players(Id, Name, Goals, Age, Country, League, Team ) VALUES(?,?,?,?,?,?,?)\",\n",
    "              (casemiro['id'],casemiro['name'],casemiro['goals'],\n",
    "               casemiro['age'],casemiro['country'],casemiro['league'],casemiro['team'])\n",
    ")\n",
    "cursor.execute(\"INSERT INTO Players(Id, Name, Goals, Age, Country, League, Team ) VALUES(?,?,?,?,?,?,?)\",\n",
    "              (ronaldo['id'],ronaldo['name'],ronaldo['goals'],\n",
    "               ronaldo['age'],ronaldo['country'],ronaldo['league'],ronaldo['team'])\n",
    ")\n",
    "cursor.execute(\"INSERT INTO Players(Id, Name, Goals, Age, Country, League, Team ) VALUES(?,?,?,?,?,?,?)\",\n",
    "              (son['id'],son['name'],son['goals'],\n",
    "               son['age'],son['country'],son['league'],son['team'])\n",
    ")\n",
    "cursor.execute(\"INSERT INTO Players(Id, Name, Goals, Age, Country, League, Team ) VALUES(?,?,?,?,?,?,?)\",\n",
    "              (kane['id'],kane['name'],kane['goals'],\n",
    "               kane['age'],kane['country'],kane['league'],kane['team'])\n",
    ")\n",
    "cursor.execute(\"INSERT INTO Players(Id, Name, Goals, Age, Country, League, Team ) VALUES(?,?,?,?,?,?,?)\",\n",
    "              (lewandowski['id'],lewandowski['name'],lewandowski['goals'],\n",
    "               lewandowski['age'],lewandowski['country'],lewandowski['league'],lewandowski['team'])\n",
    ")\n",
    "cursor.execute(\"INSERT INTO Players(Id, Name, Goals, Age, Country, League, Team ) VALUES(?,?,?,?,?,?,?)\",\n",
    "              (leao['id'],leao['name'],leao['goals'],\n",
    "               leao['age'],leao['country'],leao['league'],leao['team'])\n",
    ")\n",
    "cursor.execute(\"INSERT INTO Players(Id, Name, Goals, Age, Country, League, Team ) VALUES(?,?,?,?,?,?,?)\",\n",
    "              (mbappe['id'],mbappe['name'],mbappe['goals'],\n",
    "               mbappe['age'],mbappe['country'],mbappe['league'],mbappe['team'])\n",
    ")\n",
    "cursor.execute(\"INSERT INTO Players(Id, Name, Goals, Age, Country, League, Team ) VALUES(?,?,?,?,?,?,?)\",\n",
    "              (mane['id'],mane['name'],mane['goals'],\n",
    "               mane['age'],mane['country'],mane['league'],mane['team'])\n",
    ")\n",
    "cursor.execute(\"INSERT INTO Players(Id, Name, Goals, Age, Country, League, Team ) VALUES(?,?,?,?,?,?,?)\",\n",
    "              (haller['id'],haller['name'],haller['goals'],\n",
    "               haller['age'],haller['country'],haller['league'],haller['team'])\n",
    ")\n",
    "\n",
    "countryPlayer = [[],[],[]]\n",
    "query = '''SELECT Country, COUNT(Name) FROM Players GROUP BY Country ORDER BY COUNT(Name) DESC'''\n",
    "cursor.execute(query)\n",
    "all_rows = cursor.fetchall()\n",
    "for row in all_rows:\n",
    "    countryPlayer[0].append(str(coco.convert(names=row[0], to='ISO3',not_found='GBR')))\n",
    "    countryPlayer[1].append(int(row[1]))\n",
    "    countryPlayer[2].append(str(row[0]))\n",
    "\n",
    "\n",
    "\n",
    "\n"
   ]
  },
  {
   "cell_type": "markdown",
   "id": "a06f2bea",
   "metadata": {},
   "source": [
    "### Displaying the data"
   ]
  },
  {
   "cell_type": "markdown",
   "id": "580de661",
   "metadata": {},
   "source": [
    "In the top 20 list, which country has produced the most players? Show this over the map graph. "
   ]
  },
  {
   "cell_type": "code",
   "execution_count": 66,
   "id": "4beb31f4",
   "metadata": {},
   "outputs": [
    {
     "data": {
      "application/vnd.plotly.v1+json": {
       "config": {
        "plotlyServerURL": "https://plot.ly"
       },
       "data": [
        {
         "autocolorscale": true,
         "colorbar": {
          "tickprefix": "",
          "title": {
           "text": "Players <br> ---- "
          }
         },
         "locations": [
          "BRA",
          "PRT",
          "FRA",
          "BEL",
          "SEN",
          "POL",
          "NOR",
          "NLD",
          "KOR",
          "GBR",
          "EGY",
          "CIV",
          "HRV",
          "COL",
          "DZA"
         ],
         "marker": {
          "line": {
           "color": "darkgray",
           "width": 0.5
          }
         },
         "reversescale": true,
         "text": [
          "Brazil",
          "Portugal",
          "France",
          "Belgium",
          "Senegal",
          "Poland",
          "Norway",
          "Netherlands",
          "Korea Republic",
          "England",
          "Egypt",
          "Côte d'Ivoire",
          "Croatia",
          "Colombia",
          "Algeria"
         ],
         "type": "choropleth",
         "z": [
          3,
          2,
          2,
          2,
          1,
          1,
          1,
          1,
          1,
          1,
          1,
          1,
          1,
          1,
          1
         ]
        }
       ],
       "layout": {
        "annotations": [
         {
          "showarrow": false,
          "text": "Source: <a href=\"https://www.api-football.com/coverage\">            API FOOTBALL</a>",
          "x": 0.55,
          "xref": "paper",
          "y": 0.1,
          "yref": "paper"
         }
        ],
        "geo": {
         "projection": {
          "type": "equirectangular"
         },
         "showcoastlines": false,
         "showframe": false
        },
        "template": {
         "data": {
          "bar": [
           {
            "error_x": {
             "color": "#2a3f5f"
            },
            "error_y": {
             "color": "#2a3f5f"
            },
            "marker": {
             "line": {
              "color": "#E5ECF6",
              "width": 0.5
             },
             "pattern": {
              "fillmode": "overlay",
              "size": 10,
              "solidity": 0.2
             }
            },
            "type": "bar"
           }
          ],
          "barpolar": [
           {
            "marker": {
             "line": {
              "color": "#E5ECF6",
              "width": 0.5
             },
             "pattern": {
              "fillmode": "overlay",
              "size": 10,
              "solidity": 0.2
             }
            },
            "type": "barpolar"
           }
          ],
          "carpet": [
           {
            "aaxis": {
             "endlinecolor": "#2a3f5f",
             "gridcolor": "white",
             "linecolor": "white",
             "minorgridcolor": "white",
             "startlinecolor": "#2a3f5f"
            },
            "baxis": {
             "endlinecolor": "#2a3f5f",
             "gridcolor": "white",
             "linecolor": "white",
             "minorgridcolor": "white",
             "startlinecolor": "#2a3f5f"
            },
            "type": "carpet"
           }
          ],
          "choropleth": [
           {
            "colorbar": {
             "outlinewidth": 0,
             "ticks": ""
            },
            "type": "choropleth"
           }
          ],
          "contour": [
           {
            "colorbar": {
             "outlinewidth": 0,
             "ticks": ""
            },
            "colorscale": [
             [
              0,
              "#0d0887"
             ],
             [
              0.1111111111111111,
              "#46039f"
             ],
             [
              0.2222222222222222,
              "#7201a8"
             ],
             [
              0.3333333333333333,
              "#9c179e"
             ],
             [
              0.4444444444444444,
              "#bd3786"
             ],
             [
              0.5555555555555556,
              "#d8576b"
             ],
             [
              0.6666666666666666,
              "#ed7953"
             ],
             [
              0.7777777777777778,
              "#fb9f3a"
             ],
             [
              0.8888888888888888,
              "#fdca26"
             ],
             [
              1,
              "#f0f921"
             ]
            ],
            "type": "contour"
           }
          ],
          "contourcarpet": [
           {
            "colorbar": {
             "outlinewidth": 0,
             "ticks": ""
            },
            "type": "contourcarpet"
           }
          ],
          "heatmap": [
           {
            "colorbar": {
             "outlinewidth": 0,
             "ticks": ""
            },
            "colorscale": [
             [
              0,
              "#0d0887"
             ],
             [
              0.1111111111111111,
              "#46039f"
             ],
             [
              0.2222222222222222,
              "#7201a8"
             ],
             [
              0.3333333333333333,
              "#9c179e"
             ],
             [
              0.4444444444444444,
              "#bd3786"
             ],
             [
              0.5555555555555556,
              "#d8576b"
             ],
             [
              0.6666666666666666,
              "#ed7953"
             ],
             [
              0.7777777777777778,
              "#fb9f3a"
             ],
             [
              0.8888888888888888,
              "#fdca26"
             ],
             [
              1,
              "#f0f921"
             ]
            ],
            "type": "heatmap"
           }
          ],
          "heatmapgl": [
           {
            "colorbar": {
             "outlinewidth": 0,
             "ticks": ""
            },
            "colorscale": [
             [
              0,
              "#0d0887"
             ],
             [
              0.1111111111111111,
              "#46039f"
             ],
             [
              0.2222222222222222,
              "#7201a8"
             ],
             [
              0.3333333333333333,
              "#9c179e"
             ],
             [
              0.4444444444444444,
              "#bd3786"
             ],
             [
              0.5555555555555556,
              "#d8576b"
             ],
             [
              0.6666666666666666,
              "#ed7953"
             ],
             [
              0.7777777777777778,
              "#fb9f3a"
             ],
             [
              0.8888888888888888,
              "#fdca26"
             ],
             [
              1,
              "#f0f921"
             ]
            ],
            "type": "heatmapgl"
           }
          ],
          "histogram": [
           {
            "marker": {
             "pattern": {
              "fillmode": "overlay",
              "size": 10,
              "solidity": 0.2
             }
            },
            "type": "histogram"
           }
          ],
          "histogram2d": [
           {
            "colorbar": {
             "outlinewidth": 0,
             "ticks": ""
            },
            "colorscale": [
             [
              0,
              "#0d0887"
             ],
             [
              0.1111111111111111,
              "#46039f"
             ],
             [
              0.2222222222222222,
              "#7201a8"
             ],
             [
              0.3333333333333333,
              "#9c179e"
             ],
             [
              0.4444444444444444,
              "#bd3786"
             ],
             [
              0.5555555555555556,
              "#d8576b"
             ],
             [
              0.6666666666666666,
              "#ed7953"
             ],
             [
              0.7777777777777778,
              "#fb9f3a"
             ],
             [
              0.8888888888888888,
              "#fdca26"
             ],
             [
              1,
              "#f0f921"
             ]
            ],
            "type": "histogram2d"
           }
          ],
          "histogram2dcontour": [
           {
            "colorbar": {
             "outlinewidth": 0,
             "ticks": ""
            },
            "colorscale": [
             [
              0,
              "#0d0887"
             ],
             [
              0.1111111111111111,
              "#46039f"
             ],
             [
              0.2222222222222222,
              "#7201a8"
             ],
             [
              0.3333333333333333,
              "#9c179e"
             ],
             [
              0.4444444444444444,
              "#bd3786"
             ],
             [
              0.5555555555555556,
              "#d8576b"
             ],
             [
              0.6666666666666666,
              "#ed7953"
             ],
             [
              0.7777777777777778,
              "#fb9f3a"
             ],
             [
              0.8888888888888888,
              "#fdca26"
             ],
             [
              1,
              "#f0f921"
             ]
            ],
            "type": "histogram2dcontour"
           }
          ],
          "mesh3d": [
           {
            "colorbar": {
             "outlinewidth": 0,
             "ticks": ""
            },
            "type": "mesh3d"
           }
          ],
          "parcoords": [
           {
            "line": {
             "colorbar": {
              "outlinewidth": 0,
              "ticks": ""
             }
            },
            "type": "parcoords"
           }
          ],
          "pie": [
           {
            "automargin": true,
            "type": "pie"
           }
          ],
          "scatter": [
           {
            "fillpattern": {
             "fillmode": "overlay",
             "size": 10,
             "solidity": 0.2
            },
            "type": "scatter"
           }
          ],
          "scatter3d": [
           {
            "line": {
             "colorbar": {
              "outlinewidth": 0,
              "ticks": ""
             }
            },
            "marker": {
             "colorbar": {
              "outlinewidth": 0,
              "ticks": ""
             }
            },
            "type": "scatter3d"
           }
          ],
          "scattercarpet": [
           {
            "marker": {
             "colorbar": {
              "outlinewidth": 0,
              "ticks": ""
             }
            },
            "type": "scattercarpet"
           }
          ],
          "scattergeo": [
           {
            "marker": {
             "colorbar": {
              "outlinewidth": 0,
              "ticks": ""
             }
            },
            "type": "scattergeo"
           }
          ],
          "scattergl": [
           {
            "marker": {
             "colorbar": {
              "outlinewidth": 0,
              "ticks": ""
             }
            },
            "type": "scattergl"
           }
          ],
          "scattermapbox": [
           {
            "marker": {
             "colorbar": {
              "outlinewidth": 0,
              "ticks": ""
             }
            },
            "type": "scattermapbox"
           }
          ],
          "scatterpolar": [
           {
            "marker": {
             "colorbar": {
              "outlinewidth": 0,
              "ticks": ""
             }
            },
            "type": "scatterpolar"
           }
          ],
          "scatterpolargl": [
           {
            "marker": {
             "colorbar": {
              "outlinewidth": 0,
              "ticks": ""
             }
            },
            "type": "scatterpolargl"
           }
          ],
          "scatterternary": [
           {
            "marker": {
             "colorbar": {
              "outlinewidth": 0,
              "ticks": ""
             }
            },
            "type": "scatterternary"
           }
          ],
          "surface": [
           {
            "colorbar": {
             "outlinewidth": 0,
             "ticks": ""
            },
            "colorscale": [
             [
              0,
              "#0d0887"
             ],
             [
              0.1111111111111111,
              "#46039f"
             ],
             [
              0.2222222222222222,
              "#7201a8"
             ],
             [
              0.3333333333333333,
              "#9c179e"
             ],
             [
              0.4444444444444444,
              "#bd3786"
             ],
             [
              0.5555555555555556,
              "#d8576b"
             ],
             [
              0.6666666666666666,
              "#ed7953"
             ],
             [
              0.7777777777777778,
              "#fb9f3a"
             ],
             [
              0.8888888888888888,
              "#fdca26"
             ],
             [
              1,
              "#f0f921"
             ]
            ],
            "type": "surface"
           }
          ],
          "table": [
           {
            "cells": {
             "fill": {
              "color": "#EBF0F8"
             },
             "line": {
              "color": "white"
             }
            },
            "header": {
             "fill": {
              "color": "#C8D4E3"
             },
             "line": {
              "color": "white"
             }
            },
            "type": "table"
           }
          ]
         },
         "layout": {
          "annotationdefaults": {
           "arrowcolor": "#2a3f5f",
           "arrowhead": 0,
           "arrowwidth": 1
          },
          "autotypenumbers": "strict",
          "coloraxis": {
           "colorbar": {
            "outlinewidth": 0,
            "ticks": ""
           }
          },
          "colorscale": {
           "diverging": [
            [
             0,
             "#8e0152"
            ],
            [
             0.1,
             "#c51b7d"
            ],
            [
             0.2,
             "#de77ae"
            ],
            [
             0.3,
             "#f1b6da"
            ],
            [
             0.4,
             "#fde0ef"
            ],
            [
             0.5,
             "#f7f7f7"
            ],
            [
             0.6,
             "#e6f5d0"
            ],
            [
             0.7,
             "#b8e186"
            ],
            [
             0.8,
             "#7fbc41"
            ],
            [
             0.9,
             "#4d9221"
            ],
            [
             1,
             "#276419"
            ]
           ],
           "sequential": [
            [
             0,
             "#0d0887"
            ],
            [
             0.1111111111111111,
             "#46039f"
            ],
            [
             0.2222222222222222,
             "#7201a8"
            ],
            [
             0.3333333333333333,
             "#9c179e"
            ],
            [
             0.4444444444444444,
             "#bd3786"
            ],
            [
             0.5555555555555556,
             "#d8576b"
            ],
            [
             0.6666666666666666,
             "#ed7953"
            ],
            [
             0.7777777777777778,
             "#fb9f3a"
            ],
            [
             0.8888888888888888,
             "#fdca26"
            ],
            [
             1,
             "#f0f921"
            ]
           ],
           "sequentialminus": [
            [
             0,
             "#0d0887"
            ],
            [
             0.1111111111111111,
             "#46039f"
            ],
            [
             0.2222222222222222,
             "#7201a8"
            ],
            [
             0.3333333333333333,
             "#9c179e"
            ],
            [
             0.4444444444444444,
             "#bd3786"
            ],
            [
             0.5555555555555556,
             "#d8576b"
            ],
            [
             0.6666666666666666,
             "#ed7953"
            ],
            [
             0.7777777777777778,
             "#fb9f3a"
            ],
            [
             0.8888888888888888,
             "#fdca26"
            ],
            [
             1,
             "#f0f921"
            ]
           ]
          },
          "colorway": [
           "#636efa",
           "#EF553B",
           "#00cc96",
           "#ab63fa",
           "#FFA15A",
           "#19d3f3",
           "#FF6692",
           "#B6E880",
           "#FF97FF",
           "#FECB52"
          ],
          "font": {
           "color": "#2a3f5f"
          },
          "geo": {
           "bgcolor": "white",
           "lakecolor": "white",
           "landcolor": "#E5ECF6",
           "showlakes": true,
           "showland": true,
           "subunitcolor": "white"
          },
          "hoverlabel": {
           "align": "left"
          },
          "hovermode": "closest",
          "mapbox": {
           "style": "light"
          },
          "paper_bgcolor": "white",
          "plot_bgcolor": "#E5ECF6",
          "polar": {
           "angularaxis": {
            "gridcolor": "white",
            "linecolor": "white",
            "ticks": ""
           },
           "bgcolor": "#E5ECF6",
           "radialaxis": {
            "gridcolor": "white",
            "linecolor": "white",
            "ticks": ""
           }
          },
          "scene": {
           "xaxis": {
            "backgroundcolor": "#E5ECF6",
            "gridcolor": "white",
            "gridwidth": 2,
            "linecolor": "white",
            "showbackground": true,
            "ticks": "",
            "zerolinecolor": "white"
           },
           "yaxis": {
            "backgroundcolor": "#E5ECF6",
            "gridcolor": "white",
            "gridwidth": 2,
            "linecolor": "white",
            "showbackground": true,
            "ticks": "",
            "zerolinecolor": "white"
           },
           "zaxis": {
            "backgroundcolor": "#E5ECF6",
            "gridcolor": "white",
            "gridwidth": 2,
            "linecolor": "white",
            "showbackground": true,
            "ticks": "",
            "zerolinecolor": "white"
           }
          },
          "shapedefaults": {
           "line": {
            "color": "#2a3f5f"
           }
          },
          "ternary": {
           "aaxis": {
            "gridcolor": "white",
            "linecolor": "white",
            "ticks": ""
           },
           "baxis": {
            "gridcolor": "white",
            "linecolor": "white",
            "ticks": ""
           },
           "bgcolor": "#E5ECF6",
           "caxis": {
            "gridcolor": "white",
            "linecolor": "white",
            "ticks": ""
           }
          },
          "title": {
           "x": 0.05
          },
          "xaxis": {
           "automargin": true,
           "gridcolor": "white",
           "linecolor": "white",
           "ticks": "",
           "title": {
            "standoff": 15
           },
           "zerolinecolor": "white",
           "zerolinewidth": 2
          },
          "yaxis": {
           "automargin": true,
           "gridcolor": "white",
           "linecolor": "white",
           "ticks": "",
           "title": {
            "standoff": 15
           },
           "zerolinecolor": "white",
           "zerolinewidth": 2
          }
         }
        },
        "title": {
         "text": "Player Per Country In world top 20, 2022"
        }
       }
      },
      "text/html": [
       "<div>                            <div id=\"cc4db9b0-08a7-40ec-894c-809543285c3a\" class=\"plotly-graph-div\" style=\"height:525px; width:100%;\"></div>            <script type=\"text/javascript\">                require([\"plotly\"], function(Plotly) {                    window.PLOTLYENV=window.PLOTLYENV || {};                                    if (document.getElementById(\"cc4db9b0-08a7-40ec-894c-809543285c3a\")) {                    Plotly.newPlot(                        \"cc4db9b0-08a7-40ec-894c-809543285c3a\",                        [{\"autocolorscale\":true,\"colorbar\":{\"tickprefix\":\"\",\"title\":{\"text\":\"Players <br> ---- \"}},\"locations\":[\"BRA\",\"PRT\",\"FRA\",\"BEL\",\"SEN\",\"POL\",\"NOR\",\"NLD\",\"KOR\",\"GBR\",\"EGY\",\"CIV\",\"HRV\",\"COL\",\"DZA\"],\"marker\":{\"line\":{\"color\":\"darkgray\",\"width\":0.5}},\"reversescale\":true,\"text\":[\"Brazil\",\"Portugal\",\"France\",\"Belgium\",\"Senegal\",\"Poland\",\"Norway\",\"Netherlands\",\"Korea Republic\",\"England\",\"Egypt\",\"C\\u00f4te d'Ivoire\",\"Croatia\",\"Colombia\",\"Algeria\"],\"z\":[3,2,2,2,1,1,1,1,1,1,1,1,1,1,1],\"type\":\"choropleth\"}],                        {\"template\":{\"data\":{\"histogram2dcontour\":[{\"type\":\"histogram2dcontour\",\"colorbar\":{\"outlinewidth\":0,\"ticks\":\"\"},\"colorscale\":[[0.0,\"#0d0887\"],[0.1111111111111111,\"#46039f\"],[0.2222222222222222,\"#7201a8\"],[0.3333333333333333,\"#9c179e\"],[0.4444444444444444,\"#bd3786\"],[0.5555555555555556,\"#d8576b\"],[0.6666666666666666,\"#ed7953\"],[0.7777777777777778,\"#fb9f3a\"],[0.8888888888888888,\"#fdca26\"],[1.0,\"#f0f921\"]]}],\"choropleth\":[{\"type\":\"choropleth\",\"colorbar\":{\"outlinewidth\":0,\"ticks\":\"\"}}],\"histogram2d\":[{\"type\":\"histogram2d\",\"colorbar\":{\"outlinewidth\":0,\"ticks\":\"\"},\"colorscale\":[[0.0,\"#0d0887\"],[0.1111111111111111,\"#46039f\"],[0.2222222222222222,\"#7201a8\"],[0.3333333333333333,\"#9c179e\"],[0.4444444444444444,\"#bd3786\"],[0.5555555555555556,\"#d8576b\"],[0.6666666666666666,\"#ed7953\"],[0.7777777777777778,\"#fb9f3a\"],[0.8888888888888888,\"#fdca26\"],[1.0,\"#f0f921\"]]}],\"heatmap\":[{\"type\":\"heatmap\",\"colorbar\":{\"outlinewidth\":0,\"ticks\":\"\"},\"colorscale\":[[0.0,\"#0d0887\"],[0.1111111111111111,\"#46039f\"],[0.2222222222222222,\"#7201a8\"],[0.3333333333333333,\"#9c179e\"],[0.4444444444444444,\"#bd3786\"],[0.5555555555555556,\"#d8576b\"],[0.6666666666666666,\"#ed7953\"],[0.7777777777777778,\"#fb9f3a\"],[0.8888888888888888,\"#fdca26\"],[1.0,\"#f0f921\"]]}],\"heatmapgl\":[{\"type\":\"heatmapgl\",\"colorbar\":{\"outlinewidth\":0,\"ticks\":\"\"},\"colorscale\":[[0.0,\"#0d0887\"],[0.1111111111111111,\"#46039f\"],[0.2222222222222222,\"#7201a8\"],[0.3333333333333333,\"#9c179e\"],[0.4444444444444444,\"#bd3786\"],[0.5555555555555556,\"#d8576b\"],[0.6666666666666666,\"#ed7953\"],[0.7777777777777778,\"#fb9f3a\"],[0.8888888888888888,\"#fdca26\"],[1.0,\"#f0f921\"]]}],\"contourcarpet\":[{\"type\":\"contourcarpet\",\"colorbar\":{\"outlinewidth\":0,\"ticks\":\"\"}}],\"contour\":[{\"type\":\"contour\",\"colorbar\":{\"outlinewidth\":0,\"ticks\":\"\"},\"colorscale\":[[0.0,\"#0d0887\"],[0.1111111111111111,\"#46039f\"],[0.2222222222222222,\"#7201a8\"],[0.3333333333333333,\"#9c179e\"],[0.4444444444444444,\"#bd3786\"],[0.5555555555555556,\"#d8576b\"],[0.6666666666666666,\"#ed7953\"],[0.7777777777777778,\"#fb9f3a\"],[0.8888888888888888,\"#fdca26\"],[1.0,\"#f0f921\"]]}],\"surface\":[{\"type\":\"surface\",\"colorbar\":{\"outlinewidth\":0,\"ticks\":\"\"},\"colorscale\":[[0.0,\"#0d0887\"],[0.1111111111111111,\"#46039f\"],[0.2222222222222222,\"#7201a8\"],[0.3333333333333333,\"#9c179e\"],[0.4444444444444444,\"#bd3786\"],[0.5555555555555556,\"#d8576b\"],[0.6666666666666666,\"#ed7953\"],[0.7777777777777778,\"#fb9f3a\"],[0.8888888888888888,\"#fdca26\"],[1.0,\"#f0f921\"]]}],\"mesh3d\":[{\"type\":\"mesh3d\",\"colorbar\":{\"outlinewidth\":0,\"ticks\":\"\"}}],\"scatter\":[{\"fillpattern\":{\"fillmode\":\"overlay\",\"size\":10,\"solidity\":0.2},\"type\":\"scatter\"}],\"parcoords\":[{\"type\":\"parcoords\",\"line\":{\"colorbar\":{\"outlinewidth\":0,\"ticks\":\"\"}}}],\"scatterpolargl\":[{\"type\":\"scatterpolargl\",\"marker\":{\"colorbar\":{\"outlinewidth\":0,\"ticks\":\"\"}}}],\"bar\":[{\"error_x\":{\"color\":\"#2a3f5f\"},\"error_y\":{\"color\":\"#2a3f5f\"},\"marker\":{\"line\":{\"color\":\"#E5ECF6\",\"width\":0.5},\"pattern\":{\"fillmode\":\"overlay\",\"size\":10,\"solidity\":0.2}},\"type\":\"bar\"}],\"scattergeo\":[{\"type\":\"scattergeo\",\"marker\":{\"colorbar\":{\"outlinewidth\":0,\"ticks\":\"\"}}}],\"scatterpolar\":[{\"type\":\"scatterpolar\",\"marker\":{\"colorbar\":{\"outlinewidth\":0,\"ticks\":\"\"}}}],\"histogram\":[{\"marker\":{\"pattern\":{\"fillmode\":\"overlay\",\"size\":10,\"solidity\":0.2}},\"type\":\"histogram\"}],\"scattergl\":[{\"type\":\"scattergl\",\"marker\":{\"colorbar\":{\"outlinewidth\":0,\"ticks\":\"\"}}}],\"scatter3d\":[{\"type\":\"scatter3d\",\"line\":{\"colorbar\":{\"outlinewidth\":0,\"ticks\":\"\"}},\"marker\":{\"colorbar\":{\"outlinewidth\":0,\"ticks\":\"\"}}}],\"scattermapbox\":[{\"type\":\"scattermapbox\",\"marker\":{\"colorbar\":{\"outlinewidth\":0,\"ticks\":\"\"}}}],\"scatterternary\":[{\"type\":\"scatterternary\",\"marker\":{\"colorbar\":{\"outlinewidth\":0,\"ticks\":\"\"}}}],\"scattercarpet\":[{\"type\":\"scattercarpet\",\"marker\":{\"colorbar\":{\"outlinewidth\":0,\"ticks\":\"\"}}}],\"carpet\":[{\"aaxis\":{\"endlinecolor\":\"#2a3f5f\",\"gridcolor\":\"white\",\"linecolor\":\"white\",\"minorgridcolor\":\"white\",\"startlinecolor\":\"#2a3f5f\"},\"baxis\":{\"endlinecolor\":\"#2a3f5f\",\"gridcolor\":\"white\",\"linecolor\":\"white\",\"minorgridcolor\":\"white\",\"startlinecolor\":\"#2a3f5f\"},\"type\":\"carpet\"}],\"table\":[{\"cells\":{\"fill\":{\"color\":\"#EBF0F8\"},\"line\":{\"color\":\"white\"}},\"header\":{\"fill\":{\"color\":\"#C8D4E3\"},\"line\":{\"color\":\"white\"}},\"type\":\"table\"}],\"barpolar\":[{\"marker\":{\"line\":{\"color\":\"#E5ECF6\",\"width\":0.5},\"pattern\":{\"fillmode\":\"overlay\",\"size\":10,\"solidity\":0.2}},\"type\":\"barpolar\"}],\"pie\":[{\"automargin\":true,\"type\":\"pie\"}]},\"layout\":{\"autotypenumbers\":\"strict\",\"colorway\":[\"#636efa\",\"#EF553B\",\"#00cc96\",\"#ab63fa\",\"#FFA15A\",\"#19d3f3\",\"#FF6692\",\"#B6E880\",\"#FF97FF\",\"#FECB52\"],\"font\":{\"color\":\"#2a3f5f\"},\"hovermode\":\"closest\",\"hoverlabel\":{\"align\":\"left\"},\"paper_bgcolor\":\"white\",\"plot_bgcolor\":\"#E5ECF6\",\"polar\":{\"bgcolor\":\"#E5ECF6\",\"angularaxis\":{\"gridcolor\":\"white\",\"linecolor\":\"white\",\"ticks\":\"\"},\"radialaxis\":{\"gridcolor\":\"white\",\"linecolor\":\"white\",\"ticks\":\"\"}},\"ternary\":{\"bgcolor\":\"#E5ECF6\",\"aaxis\":{\"gridcolor\":\"white\",\"linecolor\":\"white\",\"ticks\":\"\"},\"baxis\":{\"gridcolor\":\"white\",\"linecolor\":\"white\",\"ticks\":\"\"},\"caxis\":{\"gridcolor\":\"white\",\"linecolor\":\"white\",\"ticks\":\"\"}},\"coloraxis\":{\"colorbar\":{\"outlinewidth\":0,\"ticks\":\"\"}},\"colorscale\":{\"sequential\":[[0.0,\"#0d0887\"],[0.1111111111111111,\"#46039f\"],[0.2222222222222222,\"#7201a8\"],[0.3333333333333333,\"#9c179e\"],[0.4444444444444444,\"#bd3786\"],[0.5555555555555556,\"#d8576b\"],[0.6666666666666666,\"#ed7953\"],[0.7777777777777778,\"#fb9f3a\"],[0.8888888888888888,\"#fdca26\"],[1.0,\"#f0f921\"]],\"sequentialminus\":[[0.0,\"#0d0887\"],[0.1111111111111111,\"#46039f\"],[0.2222222222222222,\"#7201a8\"],[0.3333333333333333,\"#9c179e\"],[0.4444444444444444,\"#bd3786\"],[0.5555555555555556,\"#d8576b\"],[0.6666666666666666,\"#ed7953\"],[0.7777777777777778,\"#fb9f3a\"],[0.8888888888888888,\"#fdca26\"],[1.0,\"#f0f921\"]],\"diverging\":[[0,\"#8e0152\"],[0.1,\"#c51b7d\"],[0.2,\"#de77ae\"],[0.3,\"#f1b6da\"],[0.4,\"#fde0ef\"],[0.5,\"#f7f7f7\"],[0.6,\"#e6f5d0\"],[0.7,\"#b8e186\"],[0.8,\"#7fbc41\"],[0.9,\"#4d9221\"],[1,\"#276419\"]]},\"xaxis\":{\"gridcolor\":\"white\",\"linecolor\":\"white\",\"ticks\":\"\",\"title\":{\"standoff\":15},\"zerolinecolor\":\"white\",\"automargin\":true,\"zerolinewidth\":2},\"yaxis\":{\"gridcolor\":\"white\",\"linecolor\":\"white\",\"ticks\":\"\",\"title\":{\"standoff\":15},\"zerolinecolor\":\"white\",\"automargin\":true,\"zerolinewidth\":2},\"scene\":{\"xaxis\":{\"backgroundcolor\":\"#E5ECF6\",\"gridcolor\":\"white\",\"linecolor\":\"white\",\"showbackground\":true,\"ticks\":\"\",\"zerolinecolor\":\"white\",\"gridwidth\":2},\"yaxis\":{\"backgroundcolor\":\"#E5ECF6\",\"gridcolor\":\"white\",\"linecolor\":\"white\",\"showbackground\":true,\"ticks\":\"\",\"zerolinecolor\":\"white\",\"gridwidth\":2},\"zaxis\":{\"backgroundcolor\":\"#E5ECF6\",\"gridcolor\":\"white\",\"linecolor\":\"white\",\"showbackground\":true,\"ticks\":\"\",\"zerolinecolor\":\"white\",\"gridwidth\":2}},\"shapedefaults\":{\"line\":{\"color\":\"#2a3f5f\"}},\"annotationdefaults\":{\"arrowcolor\":\"#2a3f5f\",\"arrowhead\":0,\"arrowwidth\":1},\"geo\":{\"bgcolor\":\"white\",\"landcolor\":\"#E5ECF6\",\"subunitcolor\":\"white\",\"showland\":true,\"showlakes\":true,\"lakecolor\":\"white\"},\"title\":{\"x\":0.05},\"mapbox\":{\"style\":\"light\"}}},\"title\":{\"text\":\"Player Per Country In world top 20, 2022\"},\"geo\":{\"projection\":{\"type\":\"equirectangular\"},\"showframe\":false,\"showcoastlines\":false},\"annotations\":[{\"showarrow\":false,\"text\":\"Source: <a href=\\\"https://www.api-football.com/coverage\\\">            API FOOTBALL</a>\",\"x\":0.55,\"xref\":\"paper\",\"y\":0.1,\"yref\":\"paper\"}]},                        {\"responsive\": true}                    ).then(function(){\n",
       "                            \n",
       "var gd = document.getElementById('cc4db9b0-08a7-40ec-894c-809543285c3a');\n",
       "var x = new MutationObserver(function (mutations, observer) {{\n",
       "        var display = window.getComputedStyle(gd).display;\n",
       "        if (!display || display === 'none') {{\n",
       "            console.log([gd, 'removed!']);\n",
       "            Plotly.purge(gd);\n",
       "            observer.disconnect();\n",
       "        }}\n",
       "}});\n",
       "\n",
       "// Listen for the removal of the full notebook cells\n",
       "var notebookContainer = gd.closest('#notebook-container');\n",
       "if (notebookContainer) {{\n",
       "    x.observe(notebookContainer, {childList: true});\n",
       "}}\n",
       "\n",
       "// Listen for the clearing of the current output cell\n",
       "var outputEl = gd.closest('.output');\n",
       "if (outputEl) {{\n",
       "    x.observe(outputEl, {childList: true});\n",
       "}}\n",
       "\n",
       "                        })                };                });            </script>        </div>"
      ]
     },
     "metadata": {},
     "output_type": "display_data"
    }
   ],
   "source": [
    "import plotly.graph_objects as go\n",
    "\n",
    "\n",
    "fig = go.Figure(data=go.Choropleth(\n",
    "    locations = countryPlayer[0],\n",
    "    z = countryPlayer[1],\n",
    "    text = countryPlayer[2],\n",
    "    autocolorscale=True,\n",
    "    reversescale=True,\n",
    "    marker_line_color='darkgray',\n",
    "    marker_line_width=0.5,\n",
    "    colorbar_tickprefix = '',\n",
    "    colorbar_title = 'Players <br> ---- ',\n",
    "))\n",
    "\n",
    "\n",
    "fig.update_layout(\n",
    "    title_text='Player Per Country In world top 20, 2022',\n",
    "    geo=dict(\n",
    "        showframe=False,\n",
    "        showcoastlines=False,\n",
    "        projection_type='equirectangular'\n",
    "    ),\n",
    "    annotations = [dict(\n",
    "        x=0.55,\n",
    "        y=0.1,\n",
    "        xref='paper',\n",
    "        yref='paper',\n",
    "        text='Source: <a href=\"https://www.api-football.com/coverage\">\\\n",
    "            API FOOTBALL</a>',\n",
    "        showarrow = False\n",
    "    )]\n",
    ")\n",
    "\n",
    "fig.show()\n",
    "\n"
   ]
  },
  {
   "cell_type": "markdown",
   "id": "9e0778dd",
   "metadata": {},
   "source": [
    "Who's the highest scorer on the list? Show this over the histogram."
   ]
  },
  {
   "cell_type": "code",
   "execution_count": 71,
   "id": "234e5b4d",
   "metadata": {},
   "outputs": [
    {
     "data": {
      "image/png": "[encoded data removed]",
      "text/plain": [
       "<Figure size 640x480 with 1 Axes>"
      ]
     },
     "metadata": {},
     "output_type": "display_data"
    }
   ],
   "source": [
    "import matplotlib.pyplot as plt\n",
    "\n",
    "playerGoal =[[],[]]\n",
    "\n",
    "query = '''SELECT Name, Goals FROM Players ORDER BY Goals'''\n",
    "cursor.execute(query)\n",
    "all_rows = cursor.fetchall()\n",
    "for row in all_rows:\n",
    "    playerGoal[0].append(row[0])\n",
    "    playerGoal[1].append(row[1])\n",
    "\n",
    "    \n",
    "\n",
    "\n",
    "players = playerGoal[0]\n",
    "goals = playerGoal[1]\n",
    "\n",
    "plt.barh(players, goals)\n",
    "plt.ylabel('Players')\n",
    "plt.xlabel('Goals')\n",
    "plt.title('Goal Per Player')\n",
    "plt.show()\n"
   ]
  },
  {
   "cell_type": "code",
   "execution_count": null,
   "id": "ba6f13f9",
   "metadata": {},
   "outputs": [],
   "source": []
  }
 ],
 "metadata": {
  "kernelspec": {
   "display_name": "Python 3 (ipykernel)",
   "language": "python",
   "name": "python3"
  },
  "language_info": {
   "codemirror_mode": {
    "name": "ipython",
    "version": 3
   },
   "file_extension": ".py",
   "mimetype": "text/x-python",
   "name": "python",
   "nbconvert_exporter": "python",
   "pygments_lexer": "ipython3",
   "version": "3.9.13"
  }
 },
 "nbformat": 4,
 "nbformat_minor": 5
}
